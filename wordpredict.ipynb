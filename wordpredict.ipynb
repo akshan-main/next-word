{
  "cells": [
    {
      "cell_type": "markdown",
      "metadata": {
        "id": "view-in-github",
        "colab_type": "text"
      },
      "source": [
        "<a href=\"https://colab.research.google.com/github/akshan-main/next-word/blob/main/wordpredict.ipynb\" target=\"_parent\"><img src=\"https://colab.research.google.com/assets/colab-badge.svg\" alt=\"Open In Colab\"/></a>"
      ]
    },
    {
      "cell_type": "code",
      "execution_count": null,
      "metadata": {
        "id": "pVwqSNDJ4tNu"
      },
      "outputs": [],
      "source": [
        "import numpy as np\n",
        "import tensorflow as tf\n",
        "from tensorflow.keras.preprocessing.text import Tokenizer\n",
        "from tensorflow.keras.preprocessing.sequence import pad_sequences\n",
        "from tensorflow.keras.models import Sequential\n",
        "from tensorflow.keras.layers import Embedding, LSTM, Dense\n",
        "\n",
        "with open('pride_and_prejudice.txt', 'r', encoding='utf-8') as file:\n",
        "    text = file.read()"
      ]
    },
    {
      "cell_type": "code",
      "execution_count": null,
      "metadata": {
        "id": "u6rPUmNj4usb"
      },
      "outputs": [],
      "source": [
        "tokenizer = Tokenizer()\n",
        "tokenizer.fit_on_texts([text])\n",
        "total_words = len(tokenizer.word_index) + 1"
      ]
    },
    {
      "cell_type": "code",
      "execution_count": null,
      "metadata": {
        "id": "WVHiUsDM4u3F"
      },
      "outputs": [],
      "source": [
        "input_sequences = []\n",
        "for line in text.split('\\n'):\n",
        "    token_list = tokenizer.texts_to_sequences([line])[0]\n",
        "    for i in range(1, len(token_list)):\n",
        "        n_gram_sequence = token_list[:i+1]\n",
        "        input_sequences.append(n_gram_sequence)"
      ]
    },
    {
      "cell_type": "code",
      "execution_count": null,
      "metadata": {
        "id": "6kgl7HIb4vBL"
      },
      "outputs": [],
      "source": [
        "max_sequence_len = max([len(seq) for seq in input_sequences])\n",
        "input_sequences = np.array(pad_sequences(input_sequences, maxlen=max_sequence_len, padding='pre'))"
      ]
    },
    {
      "cell_type": "code",
      "execution_count": null,
      "metadata": {
        "id": "NkH_--kd4vOL"
      },
      "outputs": [],
      "source": [
        "X = input_sequences[:, :-1]\n",
        "y = input_sequences[:, -1]"
      ]
    },
    {
      "cell_type": "code",
      "execution_count": null,
      "metadata": {
        "id": "LDQsXhIF4vf_"
      },
      "outputs": [],
      "source": [
        "y = np.array(tf.keras.utils.to_categorical(y, num_classes=total_words))"
      ]
    },
    {
      "cell_type": "code",
      "execution_count": null,
      "metadata": {
        "colab": {
          "base_uri": "https://localhost:8080/"
        },
        "id": "sIMwjdVM4vxN",
        "outputId": "a29cb42b-1362-4a04-ee95-58fcefd4a80e"
      },
      "outputs": [
        {
          "output_type": "stream",
          "name": "stdout",
          "text": [
            "Model: \"sequential\"\n",
            "_________________________________________________________________\n",
            " Layer (type)                Output Shape              Param #   \n",
            "=================================================================\n",
            " embedding (Embedding)       (None, 24, 100)           756100    \n",
            "                                                                 \n",
            " lstm (LSTM)                 (None, 150)               150600    \n",
            "                                                                 \n",
            " dense (Dense)               (None, 7561)              1141711   \n",
            "                                                                 \n",
            "=================================================================\n",
            "Total params: 2048411 (7.81 MB)\n",
            "Trainable params: 2048411 (7.81 MB)\n",
            "Non-trainable params: 0 (0.00 Byte)\n",
            "_________________________________________________________________\n",
            "None\n"
          ]
        }
      ],
      "source": [
        "model = Sequential()\n",
        "model.add(Embedding(total_words, 100, input_length=max_sequence_len-1))\n",
        "model.add(LSTM(150))\n",
        "model.add(Dense(total_words, activation='softmax'))\n",
        "print(model.summary())"
      ]
    },
    {
      "cell_type": "code",
      "execution_count": null,
      "metadata": {
        "colab": {
          "base_uri": "https://localhost:8080/"
        },
        "id": "2EnkW98YMX3W",
        "outputId": "bc78b2be-699f-46c9-f673-3012a729e2fd"
      },
      "outputs": [
        {
          "output_type": "stream",
          "name": "stdout",
          "text": [
            "Epoch 1/100\n",
            "3785/3785 [==============================] - 60s 14ms/step - loss: 6.1179 - accuracy: 0.0715\n",
            "Epoch 2/100\n",
            "3785/3785 [==============================] - 40s 11ms/step - loss: 5.3499 - accuracy: 0.1292\n",
            "Epoch 3/100\n",
            "3785/3785 [==============================] - 40s 10ms/step - loss: 4.9593 - accuracy: 0.1544\n",
            "Epoch 4/100\n",
            "3785/3785 [==============================] - 40s 10ms/step - loss: 4.6577 - accuracy: 0.1732\n",
            "Epoch 5/100\n",
            "3785/3785 [==============================] - 39s 10ms/step - loss: 4.3909 - accuracy: 0.1893\n",
            "Epoch 6/100\n",
            "3785/3785 [==============================] - 39s 10ms/step - loss: 4.1454 - accuracy: 0.2065\n",
            "Epoch 7/100\n",
            "3785/3785 [==============================] - 39s 10ms/step - loss: 3.9140 - accuracy: 0.2268\n",
            "Epoch 8/100\n",
            "3785/3785 [==============================] - 39s 10ms/step - loss: 3.6950 - accuracy: 0.2508\n",
            "Epoch 9/100\n",
            "3785/3785 [==============================] - 38s 10ms/step - loss: 3.4909 - accuracy: 0.2767\n",
            "Epoch 10/100\n",
            "3785/3785 [==============================] - 39s 10ms/step - loss: 3.2986 - accuracy: 0.3044\n",
            "Epoch 11/100\n",
            "3785/3785 [==============================] - 39s 10ms/step - loss: 3.1199 - accuracy: 0.3316\n",
            "Epoch 12/100\n",
            "3785/3785 [==============================] - 39s 10ms/step - loss: 2.9514 - accuracy: 0.3614\n",
            "Epoch 13/100\n",
            "3785/3785 [==============================] - 39s 10ms/step - loss: 2.7976 - accuracy: 0.3878\n",
            "Epoch 14/100\n",
            "3785/3785 [==============================] - 39s 10ms/step - loss: 2.6564 - accuracy: 0.4145\n",
            "Epoch 15/100\n",
            "3785/3785 [==============================] - 39s 10ms/step - loss: 2.5246 - accuracy: 0.4385\n",
            "Epoch 16/100\n",
            "3785/3785 [==============================] - 39s 10ms/step - loss: 2.4039 - accuracy: 0.4641\n",
            "Epoch 17/100\n",
            "3785/3785 [==============================] - 39s 10ms/step - loss: 2.2927 - accuracy: 0.4843\n",
            "Epoch 18/100\n",
            "3785/3785 [==============================] - 39s 10ms/step - loss: 2.1901 - accuracy: 0.5063\n",
            "Epoch 19/100\n",
            "3785/3785 [==============================] - 39s 10ms/step - loss: 2.0948 - accuracy: 0.5246\n",
            "Epoch 20/100\n",
            "3785/3785 [==============================] - 39s 10ms/step - loss: 2.0075 - accuracy: 0.5427\n",
            "Epoch 21/100\n",
            "3785/3785 [==============================] - 39s 10ms/step - loss: 1.9260 - accuracy: 0.5604\n",
            "Epoch 22/100\n",
            "3785/3785 [==============================] - 42s 11ms/step - loss: 1.8511 - accuracy: 0.5759\n",
            "Epoch 23/100\n",
            "3785/3785 [==============================] - 39s 10ms/step - loss: 1.7825 - accuracy: 0.5885\n",
            "Epoch 24/100\n",
            "3785/3785 [==============================] - 39s 10ms/step - loss: 1.7173 - accuracy: 0.6033\n",
            "Epoch 25/100\n",
            "3785/3785 [==============================] - 39s 10ms/step - loss: 1.6569 - accuracy: 0.6156\n",
            "Epoch 26/100\n",
            "3785/3785 [==============================] - 40s 10ms/step - loss: 1.6032 - accuracy: 0.6275\n",
            "Epoch 27/100\n",
            "3785/3785 [==============================] - 39s 10ms/step - loss: 1.5506 - accuracy: 0.6398\n",
            "Epoch 28/100\n",
            "3785/3785 [==============================] - 39s 10ms/step - loss: 1.5028 - accuracy: 0.6489\n",
            "Epoch 29/100\n",
            "3785/3785 [==============================] - 39s 10ms/step - loss: 1.4587 - accuracy: 0.6589\n",
            "Epoch 30/100\n",
            "3785/3785 [==============================] - 39s 10ms/step - loss: 1.4153 - accuracy: 0.6682\n",
            "Epoch 31/100\n",
            "3785/3785 [==============================] - 39s 10ms/step - loss: 1.3773 - accuracy: 0.6756\n",
            "Epoch 32/100\n",
            "3785/3785 [==============================] - 39s 10ms/step - loss: 1.3401 - accuracy: 0.6835\n",
            "Epoch 33/100\n",
            "3785/3785 [==============================] - 39s 10ms/step - loss: 1.3045 - accuracy: 0.6916\n",
            "Epoch 34/100\n",
            "3785/3785 [==============================] - 39s 10ms/step - loss: 1.2723 - accuracy: 0.7011\n",
            "Epoch 35/100\n",
            "3785/3785 [==============================] - 39s 10ms/step - loss: 1.2446 - accuracy: 0.7054\n",
            "Epoch 36/100\n",
            "3785/3785 [==============================] - 39s 10ms/step - loss: 1.2133 - accuracy: 0.7109\n",
            "Epoch 37/100\n",
            "3785/3785 [==============================] - 39s 10ms/step - loss: 1.1893 - accuracy: 0.7172\n",
            "Epoch 38/100\n",
            "3785/3785 [==============================] - 39s 10ms/step - loss: 1.1626 - accuracy: 0.7230\n",
            "Epoch 39/100\n",
            "3785/3785 [==============================] - 39s 10ms/step - loss: 1.1412 - accuracy: 0.7270\n",
            "Epoch 40/100\n",
            "3785/3785 [==============================] - 39s 10ms/step - loss: 1.1204 - accuracy: 0.7309\n",
            "Epoch 41/100\n",
            "3785/3785 [==============================] - 39s 10ms/step - loss: 1.0966 - accuracy: 0.7365\n",
            "Epoch 42/100\n",
            "3785/3785 [==============================] - 39s 10ms/step - loss: 1.0775 - accuracy: 0.7409\n",
            "Epoch 43/100\n",
            "3785/3785 [==============================] - 39s 10ms/step - loss: 1.0628 - accuracy: 0.7434\n",
            "Epoch 44/100\n",
            "3785/3785 [==============================] - 39s 10ms/step - loss: 1.0420 - accuracy: 0.7488\n",
            "Epoch 45/100\n",
            "3785/3785 [==============================] - 39s 10ms/step - loss: 1.0275 - accuracy: 0.7515\n",
            "Epoch 46/100\n",
            "3785/3785 [==============================] - 39s 10ms/step - loss: 1.0138 - accuracy: 0.7544\n",
            "Epoch 47/100\n",
            "3785/3785 [==============================] - 39s 10ms/step - loss: 0.9963 - accuracy: 0.7592\n",
            "Epoch 48/100\n",
            "3785/3785 [==============================] - 39s 10ms/step - loss: 0.9827 - accuracy: 0.7610\n",
            "Epoch 49/100\n",
            "3785/3785 [==============================] - 39s 10ms/step - loss: 0.9676 - accuracy: 0.7643\n",
            "Epoch 50/100\n",
            "3785/3785 [==============================] - 39s 10ms/step - loss: 0.9595 - accuracy: 0.7656\n",
            "Epoch 51/100\n",
            "3785/3785 [==============================] - 39s 10ms/step - loss: 0.9426 - accuracy: 0.7695\n",
            "Epoch 52/100\n",
            "3785/3785 [==============================] - 39s 10ms/step - loss: 0.9305 - accuracy: 0.7717\n",
            "Epoch 53/100\n",
            "3785/3785 [==============================] - 39s 10ms/step - loss: 0.9222 - accuracy: 0.7727\n",
            "Epoch 54/100\n",
            "3785/3785 [==============================] - 40s 10ms/step - loss: 0.9105 - accuracy: 0.7762\n",
            "Epoch 55/100\n",
            "3785/3785 [==============================] - 39s 10ms/step - loss: 0.9046 - accuracy: 0.7778\n",
            "Epoch 56/100\n",
            "3785/3785 [==============================] - 39s 10ms/step - loss: 0.8977 - accuracy: 0.7767\n",
            "Epoch 57/100\n",
            "3785/3785 [==============================] - 39s 10ms/step - loss: 0.8846 - accuracy: 0.7805\n",
            "Epoch 58/100\n",
            "3785/3785 [==============================] - 39s 10ms/step - loss: 0.8775 - accuracy: 0.7835\n",
            "Epoch 59/100\n",
            "3785/3785 [==============================] - 39s 10ms/step - loss: 0.8724 - accuracy: 0.7820\n",
            "Epoch 60/100\n",
            "3785/3785 [==============================] - 39s 10ms/step - loss: 0.8591 - accuracy: 0.7870\n",
            "Epoch 61/100\n",
            "3785/3785 [==============================] - 39s 10ms/step - loss: 0.8541 - accuracy: 0.7876\n",
            "Epoch 62/100\n",
            "3785/3785 [==============================] - 39s 10ms/step - loss: 0.8532 - accuracy: 0.7868\n",
            "Epoch 63/100\n",
            "3785/3785 [==============================] - 39s 10ms/step - loss: 0.8418 - accuracy: 0.7896\n",
            "Epoch 64/100\n",
            "3785/3785 [==============================] - 39s 10ms/step - loss: 0.8368 - accuracy: 0.7907\n",
            "Epoch 65/100\n",
            "3785/3785 [==============================] - 39s 10ms/step - loss: 0.8292 - accuracy: 0.7931\n",
            "Epoch 66/100\n",
            "3785/3785 [==============================] - 38s 10ms/step - loss: 0.8232 - accuracy: 0.7928\n",
            "Epoch 67/100\n",
            "3785/3785 [==============================] - 39s 10ms/step - loss: 0.8183 - accuracy: 0.7939\n",
            "Epoch 68/100\n",
            "3785/3785 [==============================] - 39s 10ms/step - loss: 0.8101 - accuracy: 0.7951\n",
            "Epoch 69/100\n",
            "3785/3785 [==============================] - 39s 10ms/step - loss: 0.8068 - accuracy: 0.7960\n",
            "Epoch 70/100\n",
            "3785/3785 [==============================] - 39s 10ms/step - loss: 0.8026 - accuracy: 0.7970\n",
            "Epoch 71/100\n",
            "3785/3785 [==============================] - 39s 10ms/step - loss: 0.8020 - accuracy: 0.7974\n",
            "Epoch 72/100\n",
            "3785/3785 [==============================] - 39s 10ms/step - loss: 0.7899 - accuracy: 0.7995\n",
            "Epoch 73/100\n",
            "3785/3785 [==============================] - 39s 10ms/step - loss: 0.7893 - accuracy: 0.7991\n",
            "Epoch 74/100\n",
            "3785/3785 [==============================] - 39s 10ms/step - loss: 0.7856 - accuracy: 0.7993\n",
            "Epoch 75/100\n",
            "3785/3785 [==============================] - 39s 10ms/step - loss: 0.7791 - accuracy: 0.8013\n",
            "Epoch 76/100\n",
            "3785/3785 [==============================] - 39s 10ms/step - loss: 0.7778 - accuracy: 0.8010\n",
            "Epoch 77/100\n",
            "3785/3785 [==============================] - 39s 10ms/step - loss: 0.7739 - accuracy: 0.8017\n",
            "Epoch 78/100\n",
            "3785/3785 [==============================] - 39s 10ms/step - loss: 0.7694 - accuracy: 0.8036\n",
            "Epoch 79/100\n",
            "3785/3785 [==============================] - 40s 10ms/step - loss: 0.7663 - accuracy: 0.8036\n",
            "Epoch 80/100\n",
            "3785/3785 [==============================] - 39s 10ms/step - loss: 0.7672 - accuracy: 0.8032\n",
            "Epoch 81/100\n",
            "3785/3785 [==============================] - 39s 10ms/step - loss: 0.7591 - accuracy: 0.8042\n",
            "Epoch 82/100\n",
            "3785/3785 [==============================] - 39s 10ms/step - loss: 0.7570 - accuracy: 0.8062\n",
            "Epoch 83/100\n",
            "3785/3785 [==============================] - 40s 10ms/step - loss: 0.7559 - accuracy: 0.8050\n",
            "Epoch 84/100\n",
            "3785/3785 [==============================] - 39s 10ms/step - loss: 0.7513 - accuracy: 0.8068\n",
            "Epoch 85/100\n",
            "3785/3785 [==============================] - 39s 10ms/step - loss: 0.7438 - accuracy: 0.8084\n",
            "Epoch 86/100\n",
            "3785/3785 [==============================] - 39s 10ms/step - loss: 0.7465 - accuracy: 0.8060\n",
            "Epoch 87/100\n",
            "3785/3785 [==============================] - 39s 10ms/step - loss: 0.7424 - accuracy: 0.8076\n",
            "Epoch 88/100\n",
            "3785/3785 [==============================] - 39s 10ms/step - loss: 0.7494 - accuracy: 0.8058\n",
            "Epoch 89/100\n",
            "3785/3785 [==============================] - 39s 10ms/step - loss: 0.7393 - accuracy: 0.8083\n",
            "Epoch 90/100\n",
            "3785/3785 [==============================] - 40s 10ms/step - loss: 0.7385 - accuracy: 0.8095\n",
            "Epoch 91/100\n",
            "3785/3785 [==============================] - 40s 10ms/step - loss: 0.7406 - accuracy: 0.8065\n",
            "Epoch 92/100\n",
            "3785/3785 [==============================] - 39s 10ms/step - loss: 0.7319 - accuracy: 0.8100\n",
            "Epoch 93/100\n",
            "3785/3785 [==============================] - 40s 10ms/step - loss: 0.7348 - accuracy: 0.8075\n",
            "Epoch 94/100\n",
            "3785/3785 [==============================] - 39s 10ms/step - loss: 0.7337 - accuracy: 0.8086\n",
            "Epoch 95/100\n",
            "3785/3785 [==============================] - 39s 10ms/step - loss: 0.7304 - accuracy: 0.8080\n",
            "Epoch 96/100\n",
            "3785/3785 [==============================] - 39s 10ms/step - loss: 0.7294 - accuracy: 0.8095\n",
            "Epoch 97/100\n",
            "3785/3785 [==============================] - 39s 10ms/step - loss: 0.7273 - accuracy: 0.8099\n",
            "Epoch 98/100\n",
            "3785/3785 [==============================] - 39s 10ms/step - loss: 0.7339 - accuracy: 0.8076\n",
            "Epoch 99/100\n",
            "3785/3785 [==============================] - 39s 10ms/step - loss: 0.7261 - accuracy: 0.8085\n",
            "Epoch 100/100\n",
            "3785/3785 [==============================] - 39s 10ms/step - loss: 0.7317 - accuracy: 0.8073\n"
          ]
        },
        {
          "output_type": "execute_result",
          "data": {
            "text/plain": [
              "<keras.src.callbacks.History at 0x7cca2f091e70>"
            ]
          },
          "metadata": {},
          "execution_count": 10
        }
      ],
      "source": [
        "model.compile(loss='categorical_crossentropy', optimizer='adam', metrics=['accuracy'])\n",
        "model.fit(X, y, epochs=100, verbose=1)"
      ]
    },
    {
      "cell_type": "code",
      "execution_count": null,
      "metadata": {
        "id": "ozzLGwwOMYL2",
        "colab": {
          "base_uri": "https://localhost:8080/"
        },
        "outputId": "c2456df7-b296-4316-a53e-8830890ac37b"
      },
      "outputs": [
        {
          "output_type": "stream",
          "name": "stdout",
          "text": [
            "1/1 [==============================] - 0s 353ms/step\n",
            "1/1 [==============================] - 0s 18ms/step\n",
            "1/1 [==============================] - 0s 16ms/step\n",
            "The game when he was\n"
          ]
        }
      ],
      "source": [
        "seed_text = \"The game\"\n",
        "next_words = 3\n",
        "\n",
        "for _ in range(next_words):\n",
        "    token_list = tokenizer.texts_to_sequences([seed_text])[0]\n",
        "    token_list = pad_sequences([token_list], maxlen=max_sequence_len-1, padding='pre')\n",
        "    predicted = np.argmax(model.predict(token_list), axis=-1)\n",
        "    output_word = \"\"\n",
        "    for word, index in tokenizer.word_index.items():\n",
        "        if index == predicted:\n",
        "            output_word = word\n",
        "            break\n",
        "    seed_text += \" \" + output_word\n",
        "\n",
        "print(seed_text)"
      ]
    }
  ],
  "metadata": {
    "colab": {
      "provenance": [],
      "gpuType": "T4",
      "authorship_tag": "ABX9TyPXGeyTWcDzy95Rx3N2hxEy",
      "include_colab_link": true
    },
    "kernelspec": {
      "display_name": "Python 3",
      "name": "python3"
    },
    "language_info": {
      "name": "python"
    },
    "accelerator": "GPU"
  },
  "nbformat": 4,
  "nbformat_minor": 0
}